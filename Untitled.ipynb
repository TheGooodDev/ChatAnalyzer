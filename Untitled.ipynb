{
 "cells": [
  {
   "cell_type": "code",
   "execution_count": null,
   "metadata": {},
   "outputs": [],
   "source": []
  }
 ],
 "metadata": {
  "kernelspec": {
   "display_name": "Python 3",
   "language": "python",
   "name": "python3"
  },
  "language_info": {
   "name": "python",
   "version": "3.11.2"
  },
  "vscode": {
   "interpreter": {
    "hash": "0dba8f662fc6a88f5a3162f06d555dc2da6128276fa0bf3fc69888d9005b522e"
   }
  }
 },
 "nbformat": 4,
 "nbformat_minor": 5
}
